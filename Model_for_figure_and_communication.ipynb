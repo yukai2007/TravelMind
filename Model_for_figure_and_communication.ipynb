{
 "cells": [
  {
   "cell_type": "code",
   "execution_count": null,
   "metadata": {},
   "outputs": [],
   "source": [
    "import requests\n",
    "import json\n",
    "from zhipuai import ZhipuAI\n",
    "client = ZhipuAI(api_key=\"b6bdd92afb3b479cbde07f3bbee2fcf7.sShNUwAKwFfQ9Vku\") # 填写自己的APIKey\n",
    "Req=input(\"问题(user,contenet):\")\n",
    "\n",
    "response = client.chat.completions.create(\n",
    "    model=\"glm-4-plus\",  # 填写需要调用的模型编码\n",
    "    messages=[\n",
    "        {\"role\": \"system\", \"content\": \"你是一个乐于解答各种问题的助手，你的任务是为用户提供专业、准确、有见地的建议。\"},\n",
    "        {\"role\": \"user\", \"content\": Req}\n",
    "    ],\n",
    ")\n",
    "\n",
    "print(response.choices[0].message)\n"
   ]
  },
  {
   "cell_type": "code",
   "execution_count": null,
   "metadata": {},
   "outputs": [],
   "source": [
    "from zhipuai import ZhipuAI\n",
    "client = ZhipuAI(api_key=\"b6bdd92afb3b479cbde07f3bbee2fcf7.sShNUwAKwFfQ9Vku\") # 填写自己的APIKey\n",
    "Req=input(\"URL:\")\n",
    "response = client.chat.completions.create(\n",
    "    model=\"glm-4v-plus-0111\",\n",
    "    stream=False,\n",
    "    messages=[\n",
    "        {\n",
    "            \"role\": \"user\",\n",
    "            \"content\": [\n",
    "                {\n",
    "                    \"type\": \"image_url\",\n",
    "                    \"image_url\": {\n",
    "                        \"url\": \"https://aigc-files.bigmodel.cn/api/cogview/202411181621355e276522adac433a_0.png\"\n",
    "                    }\n",
    "                },\n",
    "                # {\n",
    "                #     \"type\": \"image_url\",\n",
    "                #     \"image_url\": {\n",
    "                #         \"url\": \"https://aigc-files.bigmodel.cn/api/cogview/2024111816214822f9ee58eefa48bc_0.png\"\n",
    "                #     }\n",
    "                # },\n",
    "            #  {\n",
    "            #         \"type\": \"image_url\",\n",
    "            #         \"image_url\": {\n",
    "            #             \"url\": \"https://aigc-files.bigmodel.cn/api/cogview/2024111816415481bfd2e6ef99445e_0.png\"\n",
    "            #         }\n",
    "            #     },\n",
    "            #     {\n",
    "            #         \"type\": \"image_url\",\n",
    "            #         \"image_url\": {\n",
    "            #             \"url\": \"https://aigc-files.bigmodel.cn/api/cogview/20241118164408b8bdfd6a63484cf3_0.png\"\n",
    "            #         }\n",
    "            #     },\n",
    "            # {\n",
    "            #         \"type\": \"image_url\",\n",
    "            #         \"image_url\": {\n",
    "            #             \"url\": \"https://aigc-files.bigmodel.cn/api/cogview/20241118164507bfd683b3d8d84de8_0.png\"\n",
    "            #         }\n",
    "            #     },\n",
    "                {\n",
    "                    \"type\": \"text\",\n",
    "                    \"text\": \"可以解析图中的景点和路线吗\"\n",
    "                }\n",
    "            ]\n",
    "        }\n",
    "    ]\n",
    ")\n",
    "\n",
    "# 输出结果\n",
    "print(response)"
   ]
  }
 ],
 "metadata": {
  "kernelspec": {
   "display_name": "Python 3",
   "language": "python",
   "name": "python3"
  },
  "language_info": {
   "codemirror_mode": {
    "name": "ipython",
    "version": 3
   },
   "file_extension": ".py",
   "mimetype": "text/x-python",
   "name": "python",
   "nbconvert_exporter": "python",
   "pygments_lexer": "ipython3",
   "version": "3.13.0"
  }
 },
 "nbformat": 4,
 "nbformat_minor": 2
}
