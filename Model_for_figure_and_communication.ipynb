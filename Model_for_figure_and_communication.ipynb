{
 "cells": [
  {
   "cell_type": "code",
   "execution_count": 1,
   "metadata": {},
   "outputs": [
    {
     "name": "stdout",
     "output_type": "stream",
     "text": [
      "CompletionMessage(content='当然可以！杭州是一座风景秀丽、文化底蕴深厚的城市，非常适合一日游。以下是一个精心规划的一日游行程，希望能帮助您充分体验杭州的魅力。\\n\\n### 杭州一日游行程规划\\n\\n#### 早上：西湖景区\\n**08:00-09:00**：早餐推荐在湖滨路或南宋御街品尝杭州特色小吃，如小笼包、拌面等。\\n\\n**09:00-11:00**：游览西湖。建议从断桥出发，沿白堤漫步至平湖秋月，再前往苏堤春晓。途中可以欣赏到西湖十景之一的“断桥残雪”和“苏堤春晓”。\\n\\n**11:00-12:00**：乘船前往三潭印月，体验西湖的湖光山色。\\n\\n#### 中午：午餐\\n**12:00-13:00**：在湖滨区或附近的老字号餐馆享用午餐，推荐尝试西湖醋鱼、东坡肉等杭州名菜。\\n\\n#### 下午：灵隐寺与飞来峰\\n**13:00-15:00**：前往灵隐寺。这里是杭州著名的佛教圣地，可以参观大殿、药师殿等，感受宁静的宗教氛围。\\n\\n**15:00-16:00**：游览飞来峰，欣赏古代石刻佛像和自然风光。\\n\\n#### 傍晚：西溪湿地\\n**16:00-18:00**：前往西溪湿地。这里是城市中的天然氧吧，可以乘坐游船或步行游览，观赏湿地美景，体验生态之美。\\n\\n#### 晚上：南宋御街与河坊街\\n**18:00-19:00**：在南宋御街或河坊街享用晚餐，这里有许多特色小吃和餐馆。\\n\\n**19:00-21:00**：漫步南宋御街和河坊街，感受杭州的历史文化和繁华的商业氛围。可以购买一些杭州特产如丝绸、茶叶等作为纪念。\\n\\n### 小贴士：\\n1. **交通**：建议使用地铁和公交，杭州的公共交通非常便捷。\\n2. **穿着**：建议穿着舒适的鞋子，因为会有较多的步行。\\n3. **天气**：提前查看天气预报，带好雨具或防晒用品。\\n4. **门票**：部分景点如灵隐寺和西溪湿地需要购票，建议提前在网上预订。\\n\\n希望这个行程能让您在杭州度过愉快的一天！如果有任何其他问题或需要进一步调整，随时告诉我哦！', role='assistant', tool_calls=None)\n"
     ]
    }
   ],
   "source": [
    "import requests\n",
    "import json\n",
    "from zhipuai import ZhipuAI\n",
    "client = ZhipuAI(api_key=\"b6bdd92afb3b479cbde07f3bbee2fcf7.sShNUwAKwFfQ9Vku\") # 填写自己的APIKey\n",
    "Req=input(\"问题(user,contenet):\")\n",
    "\n",
    "response = client.chat.completions.create(\n",
    "    model=\"glm-4-plus\",  # 填写需要调用的模型编码\n",
    "    messages=[\n",
    "        {\"role\": \"system\", \"content\": \"你是一个乐于解答各种问题的旅行助手，你的任务是根据用户提供的信息，为用户提供专业、准确、有见地的旅游规划。\"},\n",
    "        {\"role\": \"user\", \"content\": Req}\n",
    "    ],\n",
    ")\n",
    "\n",
    "print(response.choices[0].message)\n"
   ]
  },
  {
   "cell_type": "code",
   "execution_count": null,
   "metadata": {},
   "outputs": [],
   "source": [
    "from zhipuai import ZhipuAI\n",
    "client = ZhipuAI(api_key=\"b6bdd92afb3b479cbde07f3bbee2fcf7.sShNUwAKwFfQ9Vku\") # 填写自己的APIKey\n",
    "Req=input(\"URL:\")\n",
    "response = client.chat.completions.create(\n",
    "    model=\"glm-4v-plus-0111\",\n",
    "    stream=False,\n",
    "    messages=[\n",
    "        {\n",
    "            \"role\": \"user\",\n",
    "            \"content\": [\n",
    "                {\n",
    "                    \"type\": \"image_url\",\n",
    "                    \"image_url\": {\n",
    "                        \"url\": \"https://aigc-files.bigmodel.cn/api/cogview/202411181621355e276522adac433a_0.png\"\n",
    "                    }\n",
    "                },\n",
    "                # {\n",
    "                #     \"type\": \"image_url\",\n",
    "                #     \"image_url\": {\n",
    "                #         \"url\": \"https://aigc-files.bigmodel.cn/api/cogview/2024111816214822f9ee58eefa48bc_0.png\"\n",
    "                #     }\n",
    "                # },\n",
    "            #  {\n",
    "            #         \"type\": \"image_url\",\n",
    "            #         \"image_url\": {\n",
    "            #             \"url\": \"https://aigc-files.bigmodel.cn/api/cogview/2024111816415481bfd2e6ef99445e_0.png\"\n",
    "            #         }\n",
    "            #     },\n",
    "            #     {\n",
    "            #         \"type\": \"image_url\",\n",
    "            #         \"image_url\": {\n",
    "            #             \"url\": \"https://aigc-files.bigmodel.cn/api/cogview/20241118164408b8bdfd6a63484cf3_0.png\"\n",
    "            #         }\n",
    "            #     },\n",
    "            # {\n",
    "            #         \"type\": \"image_url\",\n",
    "            #         \"image_url\": {\n",
    "            #             \"url\": \"https://aigc-files.bigmodel.cn/api/cogview/20241118164507bfd683b3d8d84de8_0.png\"\n",
    "            #         }\n",
    "            #     },\n",
    "                {\n",
    "                    \"type\": \"text\",\n",
    "                    \"text\": \"可以解析图中的景点和路线吗\"\n",
    "                }\n",
    "            ]\n",
    "        }\n",
    "    ]\n",
    ")\n",
    "\n",
    "# 输出结果\n",
    "print(response)"
   ]
  }
 ],
 "metadata": {
  "kernelspec": {
   "display_name": "Python 3",
   "language": "python",
   "name": "python3"
  },
  "language_info": {
   "codemirror_mode": {
    "name": "ipython",
    "version": 3
   },
   "file_extension": ".py",
   "mimetype": "text/x-python",
   "name": "python",
   "nbconvert_exporter": "python",
   "pygments_lexer": "ipython3",
   "version": "3.13.0"
  }
 },
 "nbformat": 4,
 "nbformat_minor": 2
}
